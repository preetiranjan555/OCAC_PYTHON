{
 "cells": [
  {
   "cell_type": "code",
   "execution_count": 1,
   "id": "a287731d-6029-4355-b321-dd8a04abad70",
   "metadata": {},
   "outputs": [
    {
     "data": {
      "text/plain": [
       "True"
      ]
     },
     "execution_count": 1,
     "metadata": {},
     "output_type": "execute_result"
    }
   ],
   "source": [
    "#membership operator \"in\" and \"not in\"\n",
    "a=\"preetiranjan sahoo\"\n",
    "\"ranjan\" in a"
   ]
  },
  {
   "cell_type": "code",
   "execution_count": 4,
   "id": "9538e76a-e846-4d28-9e56-a7216913db32",
   "metadata": {},
   "outputs": [
    {
     "data": {
      "text/plain": [
       "False"
      ]
     },
     "execution_count": 4,
     "metadata": {},
     "output_type": "execute_result"
    }
   ],
   "source": [
    "\"aho\" not in a"
   ]
  },
  {
   "cell_type": "code",
   "execution_count": 5,
   "id": "2aa60b9a-3e8c-4d98-9bc5-3fb6654d813c",
   "metadata": {},
   "outputs": [
    {
     "data": {
      "text/plain": [
       "True"
      ]
     },
     "execution_count": 5,
     "metadata": {},
     "output_type": "execute_result"
    }
   ],
   "source": [
    "#identity operator \"is\"and \"is not\"\n",
    "a=\"45gg\"\n",
    "b=\"45GG\"\n",
    "a is not b"
   ]
  },
  {
   "cell_type": "code",
   "execution_count": 6,
   "id": "526c4c02-999e-4519-b3ab-2d451dac1bcf",
   "metadata": {},
   "outputs": [
    {
     "data": {
      "text/plain": [
       "False"
      ]
     },
     "execution_count": 6,
     "metadata": {},
     "output_type": "execute_result"
    }
   ],
   "source": [
    "a=\"45gg\"\n",
    "b=\"45GG\"\n",
    "a is b"
   ]
  },
  {
   "cell_type": "code",
   "execution_count": 12,
   "id": "c6228577-b80f-46bf-9b6a-8900ee694efa",
   "metadata": {},
   "outputs": [
    {
     "data": {
      "text/plain": [
       "30"
      ]
     },
     "execution_count": 12,
     "metadata": {},
     "output_type": "execute_result"
    }
   ],
   "source": [
    "# Assinment operator ( =,+=,-=,*=,/=,%=,//=,**=,&=,|=,^=,>>=,<<= )\n",
    "b=30\n",
    "b"
   ]
  },
  {
   "cell_type": "code",
   "execution_count": 13,
   "id": "db968306-15c7-4136-b363-4302a8cf4aa9",
   "metadata": {},
   "outputs": [
    {
     "data": {
      "text/plain": [
       "31"
      ]
     },
     "execution_count": 13,
     "metadata": {},
     "output_type": "execute_result"
    }
   ],
   "source": [
    "b+=1\n",
    "b"
   ]
  },
  {
   "cell_type": "code",
   "execution_count": 1,
   "id": "8bb0bca2-d1fc-4337-8faf-2d64db5bd7f9",
   "metadata": {},
   "outputs": [
    {
     "data": {
      "text/plain": [
       "True"
      ]
     },
     "execution_count": 1,
     "metadata": {},
     "output_type": "execute_result"
    }
   ],
   "source": [
    "# Logicla Operators (and,or,not)\n",
    "(4>2)or(2<3)"
   ]
  },
  {
   "cell_type": "code",
   "execution_count": 2,
   "id": "d499e0d2-4a68-4019-ac14-da16c102be68",
   "metadata": {},
   "outputs": [
    {
     "data": {
      "text/plain": [
       "False"
      ]
     },
     "execution_count": 2,
     "metadata": {},
     "output_type": "execute_result"
    }
   ],
   "source": [
    "(5<3)and(4<2)"
   ]
  },
  {
   "cell_type": "code",
   "execution_count": 3,
   "id": "5e10e3b7-94cb-4ff9-8475-65f8025612f8",
   "metadata": {},
   "outputs": [
    {
     "data": {
      "text/plain": [
       "False"
      ]
     },
     "execution_count": 3,
     "metadata": {},
     "output_type": "execute_result"
    }
   ],
   "source": [
    "not True"
   ]
  },
  {
   "cell_type": "code",
   "execution_count": 4,
   "id": "953078b1-be4c-4284-8ca2-7f701c0a989d",
   "metadata": {},
   "outputs": [
    {
     "data": {
      "text/plain": [
       "True"
      ]
     },
     "execution_count": 4,
     "metadata": {},
     "output_type": "execute_result"
    }
   ],
   "source": [
    "not False"
   ]
  },
  {
   "cell_type": "code",
   "execution_count": 5,
   "id": "68a598e8-7c1b-42e2-b666-015a98e0af4e",
   "metadata": {},
   "outputs": [
    {
     "data": {
      "text/plain": [
       "True"
      ]
     },
     "execution_count": 5,
     "metadata": {},
     "output_type": "execute_result"
    }
   ],
   "source": [
    "Name=\"papu\"\n",
    "Number='45'\n",
    "Name.isalpha() or Number.isnum()"
   ]
  },
  {
   "cell_type": "code",
   "execution_count": 6,
   "id": "31869453-93f2-435f-b680-5af2faa8c2be",
   "metadata": {},
   "outputs": [
    {
     "data": {
      "text/plain": [
       "False"
      ]
     },
     "execution_count": 6,
     "metadata": {},
     "output_type": "execute_result"
    }
   ],
   "source": [
    "(45==56)and(4==4)or(6==7)"
   ]
  },
  {
   "cell_type": "code",
   "execution_count": 7,
   "id": "f6e31bcd-77e7-4710-ae39-77e1c2e284dc",
   "metadata": {},
   "outputs": [
    {
     "data": {
      "text/plain": [
       "'0b10010110'"
      ]
     },
     "execution_count": 7,
     "metadata": {},
     "output_type": "execute_result"
    }
   ],
   "source": [
    "# Bitwise Operators(&,|,~,^,>>,<<)\n",
    "bin(150)"
   ]
  },
  {
   "cell_type": "code",
   "execution_count": 8,
   "id": "7864078d-55b4-4ee6-984a-5b137e81949f",
   "metadata": {},
   "outputs": [
    {
     "data": {
      "text/plain": [
       "39"
      ]
     },
     "execution_count": 8,
     "metadata": {},
     "output_type": "execute_result"
    }
   ],
   "source": [
    "0b100111"
   ]
  },
  {
   "cell_type": "code",
   "execution_count": 9,
   "id": "0c602d81-0200-489c-ae16-654b9179e336",
   "metadata": {},
   "outputs": [
    {
     "name": "stdout",
     "output_type": "stream",
     "text": [
      "32\n"
     ]
    }
   ],
   "source": [
    "a=45\n",
    "b=34\n",
    "print(a&b)"
   ]
  },
  {
   "cell_type": "code",
   "execution_count": 10,
   "id": "6e6bd94f-63f7-43b8-b4c4-7ac863bdc1cf",
   "metadata": {},
   "outputs": [
    {
     "data": {
      "text/plain": [
       "111"
      ]
     },
     "execution_count": 10,
     "metadata": {},
     "output_type": "execute_result"
    }
   ],
   "source": [
    "45|78"
   ]
  },
  {
   "cell_type": "code",
   "execution_count": 13,
   "id": "ae56518b-8507-4dec-b2a9-c84242436cb6",
   "metadata": {},
   "outputs": [
    {
     "data": {
      "text/plain": [
       "0"
      ]
     },
     "execution_count": 13,
     "metadata": {},
     "output_type": "execute_result"
    }
   ],
   "source": [
    "7&8"
   ]
  },
  {
   "cell_type": "code",
   "execution_count": 14,
   "id": "a29fdf12-5c02-4ff7-a923-a5ebffb9882e",
   "metadata": {},
   "outputs": [
    {
     "data": {
      "text/plain": [
       "False"
      ]
     },
     "execution_count": 14,
     "metadata": {},
     "output_type": "execute_result"
    }
   ],
   "source": [
    "# Comparison/Relational Operators(<,==,!=,>=,<=)\n",
    "78998757>473573567"
   ]
  },
  {
   "cell_type": "code",
   "execution_count": 15,
   "id": "8b112edb-9a3d-4284-b947-1bb9c3aa9f14",
   "metadata": {},
   "outputs": [
    {
     "data": {
      "text/plain": [
       "True"
      ]
     },
     "execution_count": 15,
     "metadata": {},
     "output_type": "execute_result"
    }
   ],
   "source": [
    "447248974374384732838473287428472847323472472474732423>4328483229882929482892982399829429247294729427424249"
   ]
  },
  {
   "cell_type": "code",
   "execution_count": 16,
   "id": "f270085d-42f4-4c0d-8067-8fcbdde88f24",
   "metadata": {},
   "outputs": [
    {
     "data": {
      "text/plain": [
       "True"
      ]
     },
     "execution_count": 16,
     "metadata": {},
     "output_type": "execute_result"
    }
   ],
   "source": [
    "45==45"
   ]
  },
  {
   "cell_type": "code",
   "execution_count": 26,
   "id": "90065ec9-0d87-44ce-b220-1153b8fe7f61",
   "metadata": {},
   "outputs": [
    {
     "data": {
      "text/plain": [
       "True"
      ]
     },
     "execution_count": 26,
     "metadata": {},
     "output_type": "execute_result"
    }
   ],
   "source": [
    "65==65.0"
   ]
  },
  {
   "cell_type": "code",
   "execution_count": 20,
   "id": "a4ab035d-aa1c-4244-ac0f-03b0b1480b17",
   "metadata": {},
   "outputs": [
    {
     "data": {
      "text/plain": [
       "False"
      ]
     },
     "execution_count": 20,
     "metadata": {},
     "output_type": "execute_result"
    }
   ],
   "source": [
    "45==45.1"
   ]
  },
  {
   "cell_type": "code",
   "execution_count": 21,
   "id": "508b1e14-b7da-43a8-b3fe-64be8d1c79a2",
   "metadata": {},
   "outputs": [
    {
     "data": {
      "text/plain": [
       "True"
      ]
     },
     "execution_count": 21,
     "metadata": {},
     "output_type": "execute_result"
    }
   ],
   "source": [
    "78!=67"
   ]
  },
  {
   "cell_type": "code",
   "execution_count": 22,
   "id": "d0149779-13f8-4f3b-b347-100980895831",
   "metadata": {},
   "outputs": [
    {
     "data": {
      "text/plain": [
       "False"
      ]
     },
     "execution_count": 22,
     "metadata": {},
     "output_type": "execute_result"
    }
   ],
   "source": [
    "37>=37.1"
   ]
  },
  {
   "cell_type": "code",
   "execution_count": 23,
   "id": "b761877c-a465-49af-9694-c774c28aecbd",
   "metadata": {},
   "outputs": [
    {
     "data": {
      "text/plain": [
       "False"
      ]
     },
     "execution_count": 23,
     "metadata": {},
     "output_type": "execute_result"
    }
   ],
   "source": [
    "a=\"ranjan\"\n",
    "b=\"sunil\"\n",
    "a>b"
   ]
  },
  {
   "cell_type": "code",
   "execution_count": 27,
   "id": "a2e49760-59a9-4198-84d8-3ad4dd58da77",
   "metadata": {},
   "outputs": [
    {
     "data": {
      "text/plain": [
       "6.0"
      ]
     },
     "execution_count": 27,
     "metadata": {},
     "output_type": "execute_result"
    }
   ],
   "source": [
    "# Arithmatic Operators Precedence (Paracenthesis(),exponent **,floor division //,Multiplication *,Division /,Modulus ,Addition +,Substraction-)\n",
    "a=6\n",
    "b=7\n",
    "a-b*a/b+a"
   ]
  },
  {
   "cell_type": "code",
   "execution_count": 28,
   "id": "95dd46ae-23d8-4a6a-888a-a0be95818bfe",
   "metadata": {},
   "outputs": [
    {
     "data": {
      "text/plain": [
       "2"
      ]
     },
     "execution_count": 28,
     "metadata": {},
     "output_type": "execute_result"
    }
   ],
   "source": [
    "8//3"
   ]
  },
  {
   "cell_type": "code",
   "execution_count": 29,
   "id": "0c384a4d-4d9b-412f-90f5-d221333a3523",
   "metadata": {},
   "outputs": [
    {
     "data": {
      "text/plain": [
       "3"
      ]
     },
     "execution_count": 29,
     "metadata": {},
     "output_type": "execute_result"
    }
   ],
   "source": [
    "9//3"
   ]
  },
  {
   "cell_type": "code",
   "execution_count": 30,
   "id": "0a0b2be3-5afa-44e1-b52e-41b88d52d0da",
   "metadata": {},
   "outputs": [
    {
     "data": {
      "text/plain": [
       "72.5"
      ]
     },
     "execution_count": 30,
     "metadata": {},
     "output_type": "execute_result"
    }
   ],
   "source": [
    "9//2*5*9/8+50%10**3"
   ]
  },
  {
   "cell_type": "code",
   "execution_count": null,
   "id": "888a8610-25e8-42ff-82fb-ab2515a0e67b",
   "metadata": {},
   "outputs": [],
   "source": []
  }
 ],
 "metadata": {
  "kernelspec": {
   "display_name": "Python 3 (ipykernel)",
   "language": "python",
   "name": "python3"
  },
  "language_info": {
   "codemirror_mode": {
    "name": "ipython",
    "version": 3
   },
   "file_extension": ".py",
   "mimetype": "text/x-python",
   "name": "python",
   "nbconvert_exporter": "python",
   "pygments_lexer": "ipython3",
   "version": "3.11.7"
  }
 },
 "nbformat": 4,
 "nbformat_minor": 5
}
